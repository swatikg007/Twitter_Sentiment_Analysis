{
  "nbformat": 4,
  "nbformat_minor": 0,
  "metadata": {
    "colab": {
      "provenance": []
    },
    "kernelspec": {
      "name": "python3",
      "display_name": "Python 3"
    },
    "language_info": {
      "name": "python"
    }
  },
  "cells": [
    {
      "cell_type": "code",
      "metadata": {
        "id": "86YZ7ryAxDh9"
      },
      "source": [
        "import tweepy\n",
        "import matplotlib.pyplot as plt\n",
        "from  textblob import TextBlob \n",
        "import pandas as pd\n",
        "import numpy as np\n",
        "import time"
      ],
      "execution_count": null,
      "outputs": []
    },
    {
      "cell_type": "code",
      "metadata": {
        "id": "m7LyVN7g4MZ2",
        "cellView": "form"
      },
      "source": [
        "#@title Secret Consumer and Access Keys From my Twitter Devoloper Profile\n",
        "consumer_key = \"8AO6OU5ubyi4XO47b1C7Sjdlz\"\n",
        "consumer_sec = \"FS1usPrfPolvjLXbwGka5N8TWkOZhUsdxGmmTwuO016koesUSt\"\n",
        "\n",
        "# from proxy server we need to connect\n",
        "access_token = \"1151573806680592384-OUFeUtpsRFZM6jQxl1AG99NEjlY0Kt\"\n",
        "access_token_sec = \"KKHmkHkDGVaDof8XK4fKKI52DmNl4vZlaXnx85WRfd4Lr\""
      ],
      "execution_count": null,
      "outputs": []
    },
    {
      "cell_type": "markdown",
      "metadata": {
        "id": "T1qypRHO9Ori"
      },
      "source": [
        "Connecting to jump server of Twitter.\n"
      ]
    },
    {
      "cell_type": "code",
      "metadata": {
        "id": "siC-OoCayrHG",
        "cellView": "code"
      },
      "source": [
        "auth=tweepy.OAuthHandler(consumer_key,consumer_sec)"
      ],
      "execution_count": null,
      "outputs": []
    },
    {
      "cell_type": "markdown",
      "metadata": {
        "id": "bdteXtGP9cs-"
      },
      "source": [
        "Connecting from jump server to web server of Twitter."
      ]
    },
    {
      "cell_type": "code",
      "metadata": {
        "id": "oMPcxN-cy0OG"
      },
      "source": [
        "auth.set_access_token(access_token,access_token_sec)"
      ],
      "execution_count": null,
      "outputs": []
    },
    {
      "cell_type": "markdown",
      "metadata": {
        "id": "uPiMml5h9op-"
      },
      "source": [
        "Now we can access the API storage server of Twitter"
      ]
    },
    {
      "cell_type": "code",
      "metadata": {
        "id": "eHkP1F3_y1HP"
      },
      "source": [
        "api=tweepy.API(auth)"
      ],
      "execution_count": null,
      "outputs": []
    },
    {
      "cell_type": "code",
      "metadata": {
        "id": "gJTLgi18zA_X"
      },
      "source": [
        "nooftweets = 1000\n",
        "tweets = []\n",
        "likes = []\n",
        "time = []\n",
        "for i in tweepy.Cursor(api.user_timeline, id=\"TOIIndiaNews\", tweet_mode=\"extended\").items(nooftweets):\n",
        "  tweets.append(i.full_text)\n",
        "  likes.append(i.favorite_count)\n",
        "  time.append(i.created_at)"
      ],
      "execution_count": null,
      "outputs": []
    },
    {
      "cell_type": "code",
      "metadata": {
        "colab": {
          "base_uri": "https://localhost:8080/"
        },
        "id": "mVUf4G6czmvB",
        "outputId": "f552c8ad-82d9-4df2-ab4a-6f7a62f5cec9"
      },
      "source": [
        "tweets[1:20]"
      ],
      "execution_count": null,
      "outputs": [
        {
          "output_type": "execute_result",
          "data": {
            "text/plain": [
              "[\"Isro working on tech that can beat even Star Trek's https://t.co/WSxHDtgDKN\",\n",
              " \"Covid-19: 'Delta' can infect even fully vaccinated, says study https://t.co/DEtwsei4Vy\",\n",
              " 'Delhi pollution gets second wind after some relief https://t.co/nBC0lQ7Pk6',\n",
              " 'Panel on data protection bats for individual privacy https://t.co/kisPUBbWnq',\n",
              " 'Noida Airport to bring up to Rs 35,000 cr in investment, one lakh jobs: Adityanath https://t.co/mtpYaA8s90',\n",
              " \"Continued farmers' stir beyond comprehension: V K Singh https://t.co/1yia2JvRw9\",\n",
              " 'Bill seeking ban on private cryptocurrencies among 26 proposed laws listed by govt for winter session https://t.co/482Vv0ulxc',\n",
              " 'Indian naval ship undertaking coordinated patrol with Indonesian vessel https://t.co/SqevZuhC2f',\n",
              " \"SKM to observe 'Kisan Mazdoor Sangharsh Diwas' on November 24 https://t.co/ZzdZv26Uk5\",\n",
              " 'Mamata continues with TMC expansion plans; Haryana, Delhi units next month https://t.co/lfbVxDCai3',\n",
              " \"Oral sex with minor not 'aggravated sexual assault' under POCSO, HC reduces jail term of man https://t.co/GruERpkHAz\",\n",
              " 'J&amp;K govt accountable for every rupee spent on ground after revoking Article 370: Sitharaman https://t.co/yytKbY9SiN',\n",
              " 'MoD clears hurdles in AK rifle project with Russia, approves domestic satellite for IAF https://t.co/k27SL10zKZ',\n",
              " 'US, India act in concert to cool price at the pump https://t.co/lsovoumsxH',\n",
              " 'Over 118 crore Covid vaccine doses administered in India so far, says Health Ministry https://t.co/AzfceuYXz8',\n",
              " 'Singapore Airlines to start India flights from Nov 29 https://t.co/3kPlHyiI4M',\n",
              " \"Tewari should've raised 26/11 Mumbai attack response issue when he was UPA minister: Adhir Chowdhury https://t.co/86yIgAy6uS\",\n",
              " 'India envisages open, inclusive Indo-Pacific https://t.co/tqKSoJSlQV',\n",
              " \"Ahead of Putin's visit, defence ministry clears Rs 5000 cr AK-203 assault rifle deal with Russia https://t.co/FR1EUh3FEN\"]"
            ]
          },
          "metadata": {},
          "execution_count": 271
        }
      ]
    },
    {
      "cell_type": "code",
      "metadata": {
        "id": "ywUMbuDC7GJr"
      },
      "source": [
        "df = pd.DataFrame({'tweets':tweets,'likes':likes,'time':time})"
      ],
      "execution_count": null,
      "outputs": []
    },
    {
      "cell_type": "code",
      "metadata": {
        "colab": {
          "base_uri": "https://localhost:8080/",
          "height": 423
        },
        "id": "A0f2G-CA7sMk",
        "outputId": "2e04e0a7-4b6b-4cd2-81ca-7bce2a859ca0"
      },
      "source": [
        "df"
      ],
      "execution_count": null,
      "outputs": [
        {
          "output_type": "execute_result",
          "data": {
            "text/html": [
              "<div>\n",
              "<style scoped>\n",
              "    .dataframe tbody tr th:only-of-type {\n",
              "        vertical-align: middle;\n",
              "    }\n",
              "\n",
              "    .dataframe tbody tr th {\n",
              "        vertical-align: top;\n",
              "    }\n",
              "\n",
              "    .dataframe thead th {\n",
              "        text-align: right;\n",
              "    }\n",
              "</style>\n",
              "<table border=\"1\" class=\"dataframe\">\n",
              "  <thead>\n",
              "    <tr style=\"text-align: right;\">\n",
              "      <th></th>\n",
              "      <th>tweets</th>\n",
              "      <th>likes</th>\n",
              "      <th>time</th>\n",
              "    </tr>\n",
              "  </thead>\n",
              "  <tbody>\n",
              "    <tr>\n",
              "      <th>0</th>\n",
              "      <td>Noida Airport to bring up to Rs 35,000 cr in i...</td>\n",
              "      <td>32</td>\n",
              "      <td>2021-11-23 18:20:01</td>\n",
              "    </tr>\n",
              "    <tr>\n",
              "      <th>1</th>\n",
              "      <td>Continued farmers' stir beyond comprehension: ...</td>\n",
              "      <td>7</td>\n",
              "      <td>2021-11-23 18:05:31</td>\n",
              "    </tr>\n",
              "    <tr>\n",
              "      <th>2</th>\n",
              "      <td>Bill seeking ban on private cryptocurrencies a...</td>\n",
              "      <td>19</td>\n",
              "      <td>2021-11-23 18:05:01</td>\n",
              "    </tr>\n",
              "    <tr>\n",
              "      <th>3</th>\n",
              "      <td>Indian naval ship undertaking coordinated patr...</td>\n",
              "      <td>19</td>\n",
              "      <td>2021-11-23 17:35:32</td>\n",
              "    </tr>\n",
              "    <tr>\n",
              "      <th>4</th>\n",
              "      <td>SKM to observe 'Kisan Mazdoor Sangharsh Diwas'...</td>\n",
              "      <td>9</td>\n",
              "      <td>2021-11-23 17:35:01</td>\n",
              "    </tr>\n",
              "    <tr>\n",
              "      <th>...</th>\n",
              "      <td>...</td>\n",
              "      <td>...</td>\n",
              "      <td>...</td>\n",
              "    </tr>\n",
              "    <tr>\n",
              "      <th>995</th>\n",
              "      <td>Channi govt to give Rs 2 lakh to 83 arrested i...</td>\n",
              "      <td>160</td>\n",
              "      <td>2021-11-12 17:11:14</td>\n",
              "    </tr>\n",
              "    <tr>\n",
              "      <th>996</th>\n",
              "      <td>Anil Deshmukh submits handwritten application ...</td>\n",
              "      <td>9</td>\n",
              "      <td>2021-11-12 17:10:44</td>\n",
              "    </tr>\n",
              "    <tr>\n",
              "      <th>997</th>\n",
              "      <td>PM Modi to land on Purvanchal Expressway in IA...</td>\n",
              "      <td>31</td>\n",
              "      <td>2021-11-12 17:10:13</td>\n",
              "    </tr>\n",
              "    <tr>\n",
              "      <th>998</th>\n",
              "      <td>JD(U) girds up its loins to contest 20 assembl...</td>\n",
              "      <td>12</td>\n",
              "      <td>2021-11-12 16:40:44</td>\n",
              "    </tr>\n",
              "    <tr>\n",
              "      <th>999</th>\n",
              "      <td>Amit Shah exhorts party cadres to improve BJP ...</td>\n",
              "      <td>21</td>\n",
              "      <td>2021-11-12 16:40:13</td>\n",
              "    </tr>\n",
              "  </tbody>\n",
              "</table>\n",
              "<p>1000 rows × 3 columns</p>\n",
              "</div>"
            ],
            "text/plain": [
              "                                                tweets  ...                time\n",
              "0    Noida Airport to bring up to Rs 35,000 cr in i...  ... 2021-11-23 18:20:01\n",
              "1    Continued farmers' stir beyond comprehension: ...  ... 2021-11-23 18:05:31\n",
              "2    Bill seeking ban on private cryptocurrencies a...  ... 2021-11-23 18:05:01\n",
              "3    Indian naval ship undertaking coordinated patr...  ... 2021-11-23 17:35:32\n",
              "4    SKM to observe 'Kisan Mazdoor Sangharsh Diwas'...  ... 2021-11-23 17:35:01\n",
              "..                                                 ...  ...                 ...\n",
              "995  Channi govt to give Rs 2 lakh to 83 arrested i...  ... 2021-11-12 17:11:14\n",
              "996  Anil Deshmukh submits handwritten application ...  ... 2021-11-12 17:10:44\n",
              "997  PM Modi to land on Purvanchal Expressway in IA...  ... 2021-11-12 17:10:13\n",
              "998  JD(U) girds up its loins to contest 20 assembl...  ... 2021-11-12 16:40:44\n",
              "999  Amit Shah exhorts party cadres to improve BJP ...  ... 2021-11-12 16:40:13\n",
              "\n",
              "[1000 rows x 3 columns]"
            ]
          },
          "metadata": {},
          "execution_count": 216
        }
      ]
    },
    {
      "cell_type": "code",
      "metadata": {
        "id": "wb_VdMR39MAZ"
      },
      "source": [
        "#df = df[~df.tweets.str.contains(\"RT\")]\n",
        "#df = df[~df.tweets.str.contains(\"@mygovindia\")]\n"
      ],
      "execution_count": null,
      "outputs": []
    },
    {
      "cell_type": "code",
      "metadata": {
        "colab": {
          "base_uri": "https://localhost:8080/",
          "height": 423
        },
        "id": "jPHewsk29kH3",
        "outputId": "2f576664-1698-4e67-b923-74cb2e252a27"
      },
      "source": [
        "df"
      ],
      "execution_count": null,
      "outputs": [
        {
          "output_type": "execute_result",
          "data": {
            "text/html": [
              "<div>\n",
              "<style scoped>\n",
              "    .dataframe tbody tr th:only-of-type {\n",
              "        vertical-align: middle;\n",
              "    }\n",
              "\n",
              "    .dataframe tbody tr th {\n",
              "        vertical-align: top;\n",
              "    }\n",
              "\n",
              "    .dataframe thead th {\n",
              "        text-align: right;\n",
              "    }\n",
              "</style>\n",
              "<table border=\"1\" class=\"dataframe\">\n",
              "  <thead>\n",
              "    <tr style=\"text-align: right;\">\n",
              "      <th></th>\n",
              "      <th>tweets</th>\n",
              "      <th>likes</th>\n",
              "      <th>time</th>\n",
              "    </tr>\n",
              "  </thead>\n",
              "  <tbody>\n",
              "    <tr>\n",
              "      <th>0</th>\n",
              "      <td>Noida Airport to bring up to Rs 35,000 cr in i...</td>\n",
              "      <td>32</td>\n",
              "      <td>2021-11-23 18:20:01</td>\n",
              "    </tr>\n",
              "    <tr>\n",
              "      <th>1</th>\n",
              "      <td>Continued farmers' stir beyond comprehension: ...</td>\n",
              "      <td>7</td>\n",
              "      <td>2021-11-23 18:05:31</td>\n",
              "    </tr>\n",
              "    <tr>\n",
              "      <th>2</th>\n",
              "      <td>Bill seeking ban on private cryptocurrencies a...</td>\n",
              "      <td>19</td>\n",
              "      <td>2021-11-23 18:05:01</td>\n",
              "    </tr>\n",
              "    <tr>\n",
              "      <th>3</th>\n",
              "      <td>Indian naval ship undertaking coordinated patr...</td>\n",
              "      <td>19</td>\n",
              "      <td>2021-11-23 17:35:32</td>\n",
              "    </tr>\n",
              "    <tr>\n",
              "      <th>4</th>\n",
              "      <td>SKM to observe 'Kisan Mazdoor Sangharsh Diwas'...</td>\n",
              "      <td>9</td>\n",
              "      <td>2021-11-23 17:35:01</td>\n",
              "    </tr>\n",
              "    <tr>\n",
              "      <th>...</th>\n",
              "      <td>...</td>\n",
              "      <td>...</td>\n",
              "      <td>...</td>\n",
              "    </tr>\n",
              "    <tr>\n",
              "      <th>995</th>\n",
              "      <td>Channi govt to give Rs 2 lakh to 83 arrested i...</td>\n",
              "      <td>160</td>\n",
              "      <td>2021-11-12 17:11:14</td>\n",
              "    </tr>\n",
              "    <tr>\n",
              "      <th>996</th>\n",
              "      <td>Anil Deshmukh submits handwritten application ...</td>\n",
              "      <td>9</td>\n",
              "      <td>2021-11-12 17:10:44</td>\n",
              "    </tr>\n",
              "    <tr>\n",
              "      <th>997</th>\n",
              "      <td>PM Modi to land on Purvanchal Expressway in IA...</td>\n",
              "      <td>31</td>\n",
              "      <td>2021-11-12 17:10:13</td>\n",
              "    </tr>\n",
              "    <tr>\n",
              "      <th>998</th>\n",
              "      <td>JD(U) girds up its loins to contest 20 assembl...</td>\n",
              "      <td>12</td>\n",
              "      <td>2021-11-12 16:40:44</td>\n",
              "    </tr>\n",
              "    <tr>\n",
              "      <th>999</th>\n",
              "      <td>Amit Shah exhorts party cadres to improve BJP ...</td>\n",
              "      <td>21</td>\n",
              "      <td>2021-11-12 16:40:13</td>\n",
              "    </tr>\n",
              "  </tbody>\n",
              "</table>\n",
              "<p>1000 rows × 3 columns</p>\n",
              "</div>"
            ],
            "text/plain": [
              "                                                tweets  ...                time\n",
              "0    Noida Airport to bring up to Rs 35,000 cr in i...  ... 2021-11-23 18:20:01\n",
              "1    Continued farmers' stir beyond comprehension: ...  ... 2021-11-23 18:05:31\n",
              "2    Bill seeking ban on private cryptocurrencies a...  ... 2021-11-23 18:05:01\n",
              "3    Indian naval ship undertaking coordinated patr...  ... 2021-11-23 17:35:32\n",
              "4    SKM to observe 'Kisan Mazdoor Sangharsh Diwas'...  ... 2021-11-23 17:35:01\n",
              "..                                                 ...  ...                 ...\n",
              "995  Channi govt to give Rs 2 lakh to 83 arrested i...  ... 2021-11-12 17:11:14\n",
              "996  Anil Deshmukh submits handwritten application ...  ... 2021-11-12 17:10:44\n",
              "997  PM Modi to land on Purvanchal Expressway in IA...  ... 2021-11-12 17:10:13\n",
              "998  JD(U) girds up its loins to contest 20 assembl...  ... 2021-11-12 16:40:44\n",
              "999  Amit Shah exhorts party cadres to improve BJP ...  ... 2021-11-12 16:40:13\n",
              "\n",
              "[1000 rows x 3 columns]"
            ]
          },
          "metadata": {},
          "execution_count": 218
        }
      ]
    },
    {
      "cell_type": "code",
      "metadata": {
        "colab": {
          "base_uri": "https://localhost:8080/"
        },
        "id": "BMdVWeo_9lbN",
        "outputId": "ca223143-ae33-4773-cdca-236aad4892a6"
      },
      "source": [
        "import nltk\n",
        "nltk.download('punkt')\n",
        "nltk.download('wordnet')\n",
        "from nltk import sent_tokenize, word_tokenize\n",
        "from nltk.corpus import stopwords\n",
        "import re  \n",
        "import spacy\n",
        "nlp = spacy.load('en_core_web_sm')"
      ],
      "execution_count": null,
      "outputs": [
        {
          "output_type": "stream",
          "name": "stdout",
          "text": [
            "[nltk_data] Downloading package punkt to /root/nltk_data...\n",
            "[nltk_data]   Package punkt is already up-to-date!\n",
            "[nltk_data] Downloading package wordnet to /root/nltk_data...\n",
            "[nltk_data]   Package wordnet is already up-to-date!\n"
          ]
        }
      ]
    },
    {
      "cell_type": "code",
      "metadata": {
        "colab": {
          "base_uri": "https://localhost:8080/",
          "height": 206
        },
        "id": "OQWFMmgi-BcC",
        "outputId": "bbd167ed-3e7b-445d-b376-ee62874add23"
      },
      "source": [
        "df['length'] = df['tweets'].apply(len)\n",
        "df.head()"
      ],
      "execution_count": null,
      "outputs": [
        {
          "output_type": "execute_result",
          "data": {
            "text/html": [
              "<div>\n",
              "<style scoped>\n",
              "    .dataframe tbody tr th:only-of-type {\n",
              "        vertical-align: middle;\n",
              "    }\n",
              "\n",
              "    .dataframe tbody tr th {\n",
              "        vertical-align: top;\n",
              "    }\n",
              "\n",
              "    .dataframe thead th {\n",
              "        text-align: right;\n",
              "    }\n",
              "</style>\n",
              "<table border=\"1\" class=\"dataframe\">\n",
              "  <thead>\n",
              "    <tr style=\"text-align: right;\">\n",
              "      <th></th>\n",
              "      <th>tweets</th>\n",
              "      <th>likes</th>\n",
              "      <th>time</th>\n",
              "      <th>length</th>\n",
              "    </tr>\n",
              "  </thead>\n",
              "  <tbody>\n",
              "    <tr>\n",
              "      <th>0</th>\n",
              "      <td>Noida Airport to bring up to Rs 35,000 cr in i...</td>\n",
              "      <td>32</td>\n",
              "      <td>2021-11-23 18:20:01</td>\n",
              "      <td>106</td>\n",
              "    </tr>\n",
              "    <tr>\n",
              "      <th>1</th>\n",
              "      <td>Continued farmers' stir beyond comprehension: ...</td>\n",
              "      <td>7</td>\n",
              "      <td>2021-11-23 18:05:31</td>\n",
              "      <td>79</td>\n",
              "    </tr>\n",
              "    <tr>\n",
              "      <th>2</th>\n",
              "      <td>Bill seeking ban on private cryptocurrencies a...</td>\n",
              "      <td>19</td>\n",
              "      <td>2021-11-23 18:05:01</td>\n",
              "      <td>125</td>\n",
              "    </tr>\n",
              "    <tr>\n",
              "      <th>3</th>\n",
              "      <td>Indian naval ship undertaking coordinated patr...</td>\n",
              "      <td>19</td>\n",
              "      <td>2021-11-23 17:35:32</td>\n",
              "      <td>95</td>\n",
              "    </tr>\n",
              "    <tr>\n",
              "      <th>4</th>\n",
              "      <td>SKM to observe 'Kisan Mazdoor Sangharsh Diwas'...</td>\n",
              "      <td>9</td>\n",
              "      <td>2021-11-23 17:35:01</td>\n",
              "      <td>85</td>\n",
              "    </tr>\n",
              "  </tbody>\n",
              "</table>\n",
              "</div>"
            ],
            "text/plain": [
              "                                              tweets  ...  length\n",
              "0  Noida Airport to bring up to Rs 35,000 cr in i...  ...     106\n",
              "1  Continued farmers' stir beyond comprehension: ...  ...      79\n",
              "2  Bill seeking ban on private cryptocurrencies a...  ...     125\n",
              "3  Indian naval ship undertaking coordinated patr...  ...      95\n",
              "4  SKM to observe 'Kisan Mazdoor Sangharsh Diwas'...  ...      85\n",
              "\n",
              "[5 rows x 4 columns]"
            ]
          },
          "metadata": {},
          "execution_count": 220
        }
      ]
    },
    {
      "cell_type": "code",
      "metadata": {
        "id": "X0nTiWrG-YPB"
      },
      "source": [
        "stopwordlist = ['a', 'about', 'above', 'after', 'again', 'ain', 'all', 'am', 'an',\n",
        "             'and','any','are', 'as', 'at', 'be', 'because', 'been', 'before',\n",
        "             'being', 'below', 'between','both', 'by', 'can', 'd', 'did', 'do',\n",
        "             'does', 'doing', 'down', 'during', 'each','few', 'for', 'from',\n",
        "             'further', 'had', 'has', 'have', 'having', 'he', 'her', 'here',\n",
        "             'hers', 'herself', 'him', 'himself', 'his', 'how', 'i', 'if', 'in',\n",
        "             'into','is', 'it', 'its', 'itself', 'just', 'll', 'm', 'ma',\n",
        "             'me', 'more', 'most','my', 'myself', 'now', 'o', 'of', 'on', 'once',\n",
        "             'only', 'or', 'other', 'our', 'ours','ourselves', 'out', 'own', 're','s', 'same', 'she', \"shes\", 'should', \"shouldve\",'so', 'some', 'such',\n",
        "             't', 'than', 'that', \"thatll\", 'the', 'their', 'theirs', 'them',\n",
        "             'themselves', 'then', 'there', 'these', 'they', 'this', 'those',\n",
        "             'through', 'to', 'too','under', 'until', 'up', 've', 'very', 'was',\n",
        "             'we', 'were', 'what', 'when', 'where','which','while', 'who', 'whom',\n",
        "             'why', 'will', 'with', 'won', 'y', 'you', \"youd\",\"youll\", \"youre\",\n",
        "             \"youve\", 'your', 'yours', 'yourself', 'yourselves']"
      ],
      "execution_count": null,
      "outputs": []
    },
    {
      "cell_type": "code",
      "metadata": {
        "id": "dpHS10cYFxi2"
      },
      "source": [
        "data=df"
      ],
      "execution_count": null,
      "outputs": []
    },
    {
      "cell_type": "code",
      "metadata": {
        "colab": {
          "base_uri": "https://localhost:8080/",
          "height": 423
        },
        "id": "uUHBXc09Idvc",
        "outputId": "a6610110-f328-4e7f-fce0-e7ac47f57441"
      },
      "source": [
        "data"
      ],
      "execution_count": null,
      "outputs": [
        {
          "output_type": "execute_result",
          "data": {
            "text/html": [
              "<div>\n",
              "<style scoped>\n",
              "    .dataframe tbody tr th:only-of-type {\n",
              "        vertical-align: middle;\n",
              "    }\n",
              "\n",
              "    .dataframe tbody tr th {\n",
              "        vertical-align: top;\n",
              "    }\n",
              "\n",
              "    .dataframe thead th {\n",
              "        text-align: right;\n",
              "    }\n",
              "</style>\n",
              "<table border=\"1\" class=\"dataframe\">\n",
              "  <thead>\n",
              "    <tr style=\"text-align: right;\">\n",
              "      <th></th>\n",
              "      <th>tweets</th>\n",
              "      <th>likes</th>\n",
              "      <th>time</th>\n",
              "      <th>length</th>\n",
              "    </tr>\n",
              "  </thead>\n",
              "  <tbody>\n",
              "    <tr>\n",
              "      <th>0</th>\n",
              "      <td>Noida Airport to bring up to Rs 35,000 cr in i...</td>\n",
              "      <td>32</td>\n",
              "      <td>2021-11-23 18:20:01</td>\n",
              "      <td>106</td>\n",
              "    </tr>\n",
              "    <tr>\n",
              "      <th>1</th>\n",
              "      <td>Continued farmers' stir beyond comprehension: ...</td>\n",
              "      <td>7</td>\n",
              "      <td>2021-11-23 18:05:31</td>\n",
              "      <td>79</td>\n",
              "    </tr>\n",
              "    <tr>\n",
              "      <th>2</th>\n",
              "      <td>Bill seeking ban on private cryptocurrencies a...</td>\n",
              "      <td>19</td>\n",
              "      <td>2021-11-23 18:05:01</td>\n",
              "      <td>125</td>\n",
              "    </tr>\n",
              "    <tr>\n",
              "      <th>3</th>\n",
              "      <td>Indian naval ship undertaking coordinated patr...</td>\n",
              "      <td>19</td>\n",
              "      <td>2021-11-23 17:35:32</td>\n",
              "      <td>95</td>\n",
              "    </tr>\n",
              "    <tr>\n",
              "      <th>4</th>\n",
              "      <td>SKM to observe 'Kisan Mazdoor Sangharsh Diwas'...</td>\n",
              "      <td>9</td>\n",
              "      <td>2021-11-23 17:35:01</td>\n",
              "      <td>85</td>\n",
              "    </tr>\n",
              "    <tr>\n",
              "      <th>...</th>\n",
              "      <td>...</td>\n",
              "      <td>...</td>\n",
              "      <td>...</td>\n",
              "      <td>...</td>\n",
              "    </tr>\n",
              "    <tr>\n",
              "      <th>995</th>\n",
              "      <td>Channi govt to give Rs 2 lakh to 83 arrested i...</td>\n",
              "      <td>160</td>\n",
              "      <td>2021-11-12 17:11:14</td>\n",
              "      <td>111</td>\n",
              "    </tr>\n",
              "    <tr>\n",
              "      <th>996</th>\n",
              "      <td>Anil Deshmukh submits handwritten application ...</td>\n",
              "      <td>9</td>\n",
              "      <td>2021-11-12 17:10:44</td>\n",
              "      <td>101</td>\n",
              "    </tr>\n",
              "    <tr>\n",
              "      <th>997</th>\n",
              "      <td>PM Modi to land on Purvanchal Expressway in IA...</td>\n",
              "      <td>31</td>\n",
              "      <td>2021-11-12 17:10:13</td>\n",
              "      <td>92</td>\n",
              "    </tr>\n",
              "    <tr>\n",
              "      <th>998</th>\n",
              "      <td>JD(U) girds up its loins to contest 20 assembl...</td>\n",
              "      <td>12</td>\n",
              "      <td>2021-11-12 16:40:44</td>\n",
              "      <td>98</td>\n",
              "    </tr>\n",
              "    <tr>\n",
              "      <th>999</th>\n",
              "      <td>Amit Shah exhorts party cadres to improve BJP ...</td>\n",
              "      <td>21</td>\n",
              "      <td>2021-11-12 16:40:13</td>\n",
              "      <td>101</td>\n",
              "    </tr>\n",
              "  </tbody>\n",
              "</table>\n",
              "<p>1000 rows × 4 columns</p>\n",
              "</div>"
            ],
            "text/plain": [
              "                                                tweets  ...  length\n",
              "0    Noida Airport to bring up to Rs 35,000 cr in i...  ...     106\n",
              "1    Continued farmers' stir beyond comprehension: ...  ...      79\n",
              "2    Bill seeking ban on private cryptocurrencies a...  ...     125\n",
              "3    Indian naval ship undertaking coordinated patr...  ...      95\n",
              "4    SKM to observe 'Kisan Mazdoor Sangharsh Diwas'...  ...      85\n",
              "..                                                 ...  ...     ...\n",
              "995  Channi govt to give Rs 2 lakh to 83 arrested i...  ...     111\n",
              "996  Anil Deshmukh submits handwritten application ...  ...     101\n",
              "997  PM Modi to land on Purvanchal Expressway in IA...  ...      92\n",
              "998  JD(U) girds up its loins to contest 20 assembl...  ...      98\n",
              "999  Amit Shah exhorts party cadres to improve BJP ...  ...     101\n",
              "\n",
              "[1000 rows x 4 columns]"
            ]
          },
          "metadata": {},
          "execution_count": 223
        }
      ]
    },
    {
      "cell_type": "code",
      "metadata": {
        "colab": {
          "base_uri": "https://localhost:8080/",
          "height": 423
        },
        "id": "k-bP4Q-HIjuv",
        "outputId": "7ff0e1a1-0e06-4bc4-8f22-061273dfdc70"
      },
      "source": [
        "df"
      ],
      "execution_count": null,
      "outputs": [
        {
          "output_type": "execute_result",
          "data": {
            "text/html": [
              "<div>\n",
              "<style scoped>\n",
              "    .dataframe tbody tr th:only-of-type {\n",
              "        vertical-align: middle;\n",
              "    }\n",
              "\n",
              "    .dataframe tbody tr th {\n",
              "        vertical-align: top;\n",
              "    }\n",
              "\n",
              "    .dataframe thead th {\n",
              "        text-align: right;\n",
              "    }\n",
              "</style>\n",
              "<table border=\"1\" class=\"dataframe\">\n",
              "  <thead>\n",
              "    <tr style=\"text-align: right;\">\n",
              "      <th></th>\n",
              "      <th>tweets</th>\n",
              "      <th>likes</th>\n",
              "      <th>time</th>\n",
              "      <th>length</th>\n",
              "    </tr>\n",
              "  </thead>\n",
              "  <tbody>\n",
              "    <tr>\n",
              "      <th>0</th>\n",
              "      <td>Noida Airport to bring up to Rs 35,000 cr in i...</td>\n",
              "      <td>32</td>\n",
              "      <td>2021-11-23 18:20:01</td>\n",
              "      <td>106</td>\n",
              "    </tr>\n",
              "    <tr>\n",
              "      <th>1</th>\n",
              "      <td>Continued farmers' stir beyond comprehension: ...</td>\n",
              "      <td>7</td>\n",
              "      <td>2021-11-23 18:05:31</td>\n",
              "      <td>79</td>\n",
              "    </tr>\n",
              "    <tr>\n",
              "      <th>2</th>\n",
              "      <td>Bill seeking ban on private cryptocurrencies a...</td>\n",
              "      <td>19</td>\n",
              "      <td>2021-11-23 18:05:01</td>\n",
              "      <td>125</td>\n",
              "    </tr>\n",
              "    <tr>\n",
              "      <th>3</th>\n",
              "      <td>Indian naval ship undertaking coordinated patr...</td>\n",
              "      <td>19</td>\n",
              "      <td>2021-11-23 17:35:32</td>\n",
              "      <td>95</td>\n",
              "    </tr>\n",
              "    <tr>\n",
              "      <th>4</th>\n",
              "      <td>SKM to observe 'Kisan Mazdoor Sangharsh Diwas'...</td>\n",
              "      <td>9</td>\n",
              "      <td>2021-11-23 17:35:01</td>\n",
              "      <td>85</td>\n",
              "    </tr>\n",
              "    <tr>\n",
              "      <th>...</th>\n",
              "      <td>...</td>\n",
              "      <td>...</td>\n",
              "      <td>...</td>\n",
              "      <td>...</td>\n",
              "    </tr>\n",
              "    <tr>\n",
              "      <th>995</th>\n",
              "      <td>Channi govt to give Rs 2 lakh to 83 arrested i...</td>\n",
              "      <td>160</td>\n",
              "      <td>2021-11-12 17:11:14</td>\n",
              "      <td>111</td>\n",
              "    </tr>\n",
              "    <tr>\n",
              "      <th>996</th>\n",
              "      <td>Anil Deshmukh submits handwritten application ...</td>\n",
              "      <td>9</td>\n",
              "      <td>2021-11-12 17:10:44</td>\n",
              "      <td>101</td>\n",
              "    </tr>\n",
              "    <tr>\n",
              "      <th>997</th>\n",
              "      <td>PM Modi to land on Purvanchal Expressway in IA...</td>\n",
              "      <td>31</td>\n",
              "      <td>2021-11-12 17:10:13</td>\n",
              "      <td>92</td>\n",
              "    </tr>\n",
              "    <tr>\n",
              "      <th>998</th>\n",
              "      <td>JD(U) girds up its loins to contest 20 assembl...</td>\n",
              "      <td>12</td>\n",
              "      <td>2021-11-12 16:40:44</td>\n",
              "      <td>98</td>\n",
              "    </tr>\n",
              "    <tr>\n",
              "      <th>999</th>\n",
              "      <td>Amit Shah exhorts party cadres to improve BJP ...</td>\n",
              "      <td>21</td>\n",
              "      <td>2021-11-12 16:40:13</td>\n",
              "      <td>101</td>\n",
              "    </tr>\n",
              "  </tbody>\n",
              "</table>\n",
              "<p>1000 rows × 4 columns</p>\n",
              "</div>"
            ],
            "text/plain": [
              "                                                tweets  ...  length\n",
              "0    Noida Airport to bring up to Rs 35,000 cr in i...  ...     106\n",
              "1    Continued farmers' stir beyond comprehension: ...  ...      79\n",
              "2    Bill seeking ban on private cryptocurrencies a...  ...     125\n",
              "3    Indian naval ship undertaking coordinated patr...  ...      95\n",
              "4    SKM to observe 'Kisan Mazdoor Sangharsh Diwas'...  ...      85\n",
              "..                                                 ...  ...     ...\n",
              "995  Channi govt to give Rs 2 lakh to 83 arrested i...  ...     111\n",
              "996  Anil Deshmukh submits handwritten application ...  ...     101\n",
              "997  PM Modi to land on Purvanchal Expressway in IA...  ...      92\n",
              "998  JD(U) girds up its loins to contest 20 assembl...  ...      98\n",
              "999  Amit Shah exhorts party cadres to improve BJP ...  ...     101\n",
              "\n",
              "[1000 rows x 4 columns]"
            ]
          },
          "metadata": {},
          "execution_count": 224
        }
      ]
    },
    {
      "cell_type": "code",
      "metadata": {
        "colab": {
          "base_uri": "https://localhost:8080/"
        },
        "id": "fsristCAA5qK",
        "outputId": "04fc71b7-b04f-4635-bdd7-e99565109dbd"
      },
      "source": [
        "STOPWORDS = set(stopwordlist)\n",
        "def cleaning_stopwords(text):\n",
        "    return \" \".join([word for word in str(text).split() if word not in STOPWORDS])\n",
        "df['tweets'] = df['tweets'].apply(lambda text: cleaning_stopwords(text))\n",
        "df['tweets'].head()"
      ],
      "execution_count": null,
      "outputs": [
        {
          "output_type": "execute_result",
          "data": {
            "text/plain": [
              "0    Noida Airport bring Rs 35,000 cr investment, o...\n",
              "1    Continued farmers' stir beyond comprehension: ...\n",
              "2    Bill seeking ban private cryptocurrencies amon...\n",
              "3    Indian naval ship undertaking coordinated patr...\n",
              "4    SKM observe 'Kisan Mazdoor Sangharsh Diwas' No...\n",
              "Name: tweets, dtype: object"
            ]
          },
          "metadata": {},
          "execution_count": 225
        }
      ]
    },
    {
      "cell_type": "code",
      "metadata": {
        "colab": {
          "base_uri": "https://localhost:8080/"
        },
        "id": "r9AxLh2PA9NQ",
        "outputId": "c8a9a60e-07de-409f-d801-e3c18f40abaf"
      },
      "source": [
        "def cleaning_repeating_char(text):\n",
        "    return re.sub(r'(.)1+', r'1', text)\n",
        "df['tweets'] = df['tweets'].apply(lambda x: cleaning_repeating_char(x))\n",
        "df['tweets'].tail()"
      ],
      "execution_count": null,
      "outputs": [
        {
          "output_type": "execute_result",
          "data": {
            "text/plain": [
              "995    Channi govt give Rs 2 lakh 83 arrested Delhi t...\n",
              "996    Anil Deshmukh submits handwritten application ...\n",
              "997    PM Modi land Purvanchal Expressway IAF plane N...\n",
              "998    JD(U) girds loins contest 20 assembly seats BJ...\n",
              "999    Amit Shah exhorts party cadres improve BJP tal...\n",
              "Name: tweets, dtype: object"
            ]
          },
          "metadata": {},
          "execution_count": 226
        }
      ]
    },
    {
      "cell_type": "code",
      "metadata": {
        "colab": {
          "base_uri": "https://localhost:8080/"
        },
        "id": "yPTUjODsA_ZV",
        "outputId": "e113cc1c-ac8d-4a2a-ad69-9272622e8979"
      },
      "source": [
        "def cleaning_URLs(data):\n",
        "    return re.sub('((www.[^s]+)|(https?://[^s]+))',' ',data)\n",
        "df['tweets'] = df['tweets'].apply(lambda x: cleaning_URLs(x))\n",
        "df['tweets'].tail()\n"
      ],
      "execution_count": null,
      "outputs": [
        {
          "output_type": "execute_result",
          "data": {
            "text/plain": [
              "995    Channi govt give Rs 2 lakh 83 arrested Delhi t...\n",
              "996    Anil Deshmukh submits handwritten application ...\n",
              "997    PM Modi land Purvanchal Expressway IAF plane N...\n",
              "998    JD(U) girds loins contest 20 assembly seats BJ...\n",
              "999    Amit Shah exhorts party cadres improve BJP tal...\n",
              "Name: tweets, dtype: object"
            ]
          },
          "metadata": {},
          "execution_count": 227
        }
      ]
    },
    {
      "cell_type": "code",
      "metadata": {
        "colab": {
          "base_uri": "https://localhost:8080/"
        },
        "id": "P9r-HEhWBpd5",
        "outputId": "e7ba8649-a689-4a65-c673-d1c2bb3cea43"
      },
      "source": [
        "df[\"tweets\"]"
      ],
      "execution_count": null,
      "outputs": [
        {
          "output_type": "execute_result",
          "data": {
            "text/plain": [
              "0      Noida Airport bring Rs 35,000 cr investment, o...\n",
              "1      Continued farmers' stir beyond comprehension: ...\n",
              "2      Bill seeking ban private cryptocurrencies amon...\n",
              "3      Indian naval ship undertaking coordinated patr...\n",
              "4      SKM observe 'Kisan Mazdoor Sangharsh Diwas' No...\n",
              "                             ...                        \n",
              "995    Channi govt give Rs 2 lakh 83 arrested Delhi t...\n",
              "996    Anil Deshmukh submits handwritten application ...\n",
              "997    PM Modi land Purvanchal Expressway IAF plane N...\n",
              "998    JD(U) girds loins contest 20 assembly seats BJ...\n",
              "999    Amit Shah exhorts party cadres improve BJP tal...\n",
              "Name: tweets, Length: 1000, dtype: object"
            ]
          },
          "metadata": {},
          "execution_count": 228
        }
      ]
    },
    {
      "cell_type": "code",
      "metadata": {
        "id": "d7dqLwReBw0N",
        "colab": {
          "base_uri": "https://localhost:8080/"
        },
        "outputId": "fb6eead5-2058-4b94-b567-fdcec261c28a"
      },
      "source": [
        "from nltk.tokenize import RegexpTokenizer\n",
        "tokenizer = RegexpTokenizer(r'\\w+')\n",
        "df['tweets'] = df['tweets'].apply(tokenizer.tokenize)\n",
        "df['tweets'].head()"
      ],
      "execution_count": null,
      "outputs": [
        {
          "output_type": "execute_result",
          "data": {
            "text/plain": [
              "0    [Noida, Airport, bring, Rs, 35, 000, cr, inves...\n",
              "1    [Continued, farmers, stir, beyond, comprehensi...\n",
              "2    [Bill, seeking, ban, private, cryptocurrencies...\n",
              "3    [Indian, naval, ship, undertaking, coordinated...\n",
              "4    [SKM, observe, Kisan, Mazdoor, Sangharsh, Diwa...\n",
              "Name: tweets, dtype: object"
            ]
          },
          "metadata": {},
          "execution_count": 192
        }
      ]
    },
    {
      "cell_type": "code",
      "metadata": {
        "colab": {
          "base_uri": "https://localhost:8080/"
        },
        "id": "J-ommjv_jvCQ",
        "outputId": "bf368d40-eab1-44ab-95a5-e7bdced0dbf6"
      },
      "source": [
        "import nltk \n",
        "st = nltk.PorterStemmer() \n",
        "def stemming_on_text(data): \n",
        "  text = [st.stem(word) for word in data] \n",
        "  return data \n",
        "df['tweets']= df['tweets'].apply(lambda x: stemming_on_text(x)) \n",
        "df['tweets'].head()"
      ],
      "execution_count": null,
      "outputs": [
        {
          "output_type": "execute_result",
          "data": {
            "text/plain": [
              "0    [Noida, Airport, bring, Rs, 35, 000, cr, inves...\n",
              "1    [Continued, farmers, stir, beyond, comprehensi...\n",
              "2    [Bill, seeking, ban, private, cryptocurrencies...\n",
              "3    [Indian, naval, ship, undertaking, coordinated...\n",
              "4    [SKM, observe, Kisan, Mazdoor, Sangharsh, Diwa...\n",
              "Name: tweets, dtype: object"
            ]
          },
          "metadata": {},
          "execution_count": 193
        }
      ]
    },
    {
      "cell_type": "code",
      "metadata": {
        "id": "MjPXTo7tj9xs"
      },
      "source": [
        "import string"
      ],
      "execution_count": null,
      "outputs": []
    },
    {
      "cell_type": "code",
      "metadata": {
        "colab": {
          "base_uri": "https://localhost:8080/"
        },
        "id": "4jzaglgBbPf8",
        "outputId": "244539cc-c834-4a05-e870-2ade85256555"
      },
      "source": [
        "from sklearn.feature_extraction.text import CountVectorizer\n",
        "nltk.download('stopwords')"
      ],
      "execution_count": null,
      "outputs": [
        {
          "output_type": "stream",
          "name": "stdout",
          "text": [
            "[nltk_data] Downloading package stopwords to /root/nltk_data...\n",
            "[nltk_data]   Package stopwords is already up-to-date!\n"
          ]
        },
        {
          "output_type": "execute_result",
          "data": {
            "text/plain": [
              "True"
            ]
          },
          "metadata": {},
          "execution_count": 195
        }
      ]
    },
    {
      "cell_type": "code",
      "metadata": {
        "colab": {
          "base_uri": "https://localhost:8080/"
        },
        "id": "4kASOiLPeQpC",
        "outputId": "f7c8fe16-ba0d-4cba-87d2-9b3220fcd8a6"
      },
      "source": [
        "bow_transformer = CountVectorizer(analyzer=text_process).fit(df[\"tweets\"])\n",
        "print(len(bow_transformer.vocabulary_))"
      ],
      "execution_count": null,
      "outputs": [
        {
          "output_type": "stream",
          "name": "stdout",
          "text": [
            "996\n"
          ]
        }
      ]
    },
    {
      "cell_type": "code",
      "metadata": {
        "colab": {
          "base_uri": "https://localhost:8080/"
        },
        "id": "hBHJHngEfO6o",
        "outputId": "ef2b4900-a98f-42e1-fb41-062d8b2d0d92"
      },
      "source": [
        "print(df[\"tweets\"])"
      ],
      "execution_count": null,
      "outputs": [
        {
          "output_type": "stream",
          "name": "stdout",
          "text": [
            "0      [Noida, Airport, bring, Rs, 35, 000, cr, inves...\n",
            "1      [Continued, farmers, stir, beyond, comprehensi...\n",
            "2      [Bill, seeking, ban, private, cryptocurrencies...\n",
            "3      [Indian, naval, ship, undertaking, coordinated...\n",
            "4      [SKM, observe, Kisan, Mazdoor, Sangharsh, Diwa...\n",
            "                             ...                        \n",
            "995    [Channi, govt, give, Rs, 2, lakh, 83, arrested...\n",
            "996    [Anil, Deshmukh, submits, handwritten, applica...\n",
            "997    [PM, Modi, land, Purvanchal, Expressway, IAF, ...\n",
            "998    [JD, U, girds, loins, contest, 20, assembly, s...\n",
            "999    [Amit, Shah, exhorts, party, cadres, improve, ...\n",
            "Name: tweets, Length: 1000, dtype: object\n"
          ]
        }
      ]
    },
    {
      "cell_type": "code",
      "metadata": {
        "colab": {
          "base_uri": "https://localhost:8080/"
        },
        "id": "ypFjUsTudpgb",
        "outputId": "8440bd82-d4e8-42a5-a828-11e2cd4b5079"
      },
      "source": [
        "messages_bow = bow_transformer.transform(df[\"tweets\"])\n",
        "print(messages_bow)"
      ],
      "execution_count": null,
      "outputs": [
        {
          "output_type": "stream",
          "name": "stdout",
          "text": [
            "  (0, 608)\t1\n",
            "  (1, 212)\t1\n",
            "  (2, 133)\t1\n",
            "  (3, 436)\t1\n",
            "  (4, 809)\t1\n",
            "  (5, 534)\t1\n",
            "  (6, 627)\t1\n",
            "  (7, 489)\t1\n",
            "  (8, 562)\t1\n",
            "  (9, 927)\t1\n",
            "  (10, 637)\t1\n",
            "  (11, 842)\t1\n",
            "  (12, 888)\t1\n",
            "  (13, 425)\t1\n",
            "  (14, 43)\t1\n",
            "  (15, 530)\t1\n",
            "  (16, 307)\t1\n",
            "  (17, 731)\t1\n",
            "  (18, 599)\t1\n",
            "  (19, 259)\t1\n",
            "  (20, 898)\t1\n",
            "  (21, 340)\t1\n",
            "  (22, 332)\t1\n",
            "  (23, 715)\t1\n",
            "  (24, 724)\t1\n",
            "  :\t:\n",
            "  (975, 760)\t1\n",
            "  (976, 900)\t1\n",
            "  (977, 143)\t1\n",
            "  (978, 859)\t1\n",
            "  (979, 728)\t1\n",
            "  (980, 518)\t1\n",
            "  (981, 53)\t1\n",
            "  (982, 186)\t1\n",
            "  (983, 675)\t1\n",
            "  (984, 580)\t1\n",
            "  (985, 886)\t1\n",
            "  (986, 896)\t1\n",
            "  (987, 63)\t1\n",
            "  (988, 55)\t1\n",
            "  (989, 327)\t1\n",
            "  (990, 500)\t1\n",
            "  (991, 331)\t1\n",
            "  (992, 918)\t1\n",
            "  (993, 815)\t1\n",
            "  (994, 462)\t1\n",
            "  (995, 181)\t1\n",
            "  (996, 70)\t1\n",
            "  (997, 674)\t1\n",
            "  (998, 478)\t1\n",
            "  (999, 61)\t1\n"
          ]
        }
      ]
    },
    {
      "cell_type": "code",
      "metadata": {
        "colab": {
          "base_uri": "https://localhost:8080/"
        },
        "id": "DBmVvlTVgcOw",
        "outputId": "66673134-8c65-45f4-89da-10d23623fa1c"
      },
      "source": [
        "print('Shape of Sparse Matrix: ', messages_bow.shape)\n",
        "print('Amount of Non-Zero occurences: ', messages_bow.nnz)"
      ],
      "execution_count": null,
      "outputs": [
        {
          "output_type": "stream",
          "name": "stdout",
          "text": [
            "Shape of Sparse Matrix:  (1000, 996)\n",
            "Amount of Non-Zero occurences:  1000\n"
          ]
        }
      ]
    },
    {
      "cell_type": "code",
      "metadata": {
        "colab": {
          "base_uri": "https://localhost:8080/"
        },
        "id": "cik-hw6xqZda",
        "outputId": "e9865ce9-0f19-4a11-e5ff-66a8ff38338c"
      },
      "source": [
        "!pip install vaderSentiment\n",
        "!pip install twython"
      ],
      "execution_count": null,
      "outputs": [
        {
          "output_type": "stream",
          "name": "stdout",
          "text": [
            "Collecting vaderSentiment\n",
            "  Downloading vaderSentiment-3.3.2-py2.py3-none-any.whl (125 kB)\n",
            "\u001b[?25l\r\u001b[K     |██▋                             | 10 kB 22.5 MB/s eta 0:00:01\r\u001b[K     |█████▏                          | 20 kB 26.5 MB/s eta 0:00:01\r\u001b[K     |███████▉                        | 30 kB 14.0 MB/s eta 0:00:01\r\u001b[K     |██████████▍                     | 40 kB 10.4 MB/s eta 0:00:01\r\u001b[K     |█████████████                   | 51 kB 8.4 MB/s eta 0:00:01\r\u001b[K     |███████████████▋                | 61 kB 6.8 MB/s eta 0:00:01\r\u001b[K     |██████████████████▏             | 71 kB 7.7 MB/s eta 0:00:01\r\u001b[K     |████████████████████▉           | 81 kB 8.4 MB/s eta 0:00:01\r\u001b[K     |███████████████████████▍        | 92 kB 8.2 MB/s eta 0:00:01\r\u001b[K     |██████████████████████████      | 102 kB 7.8 MB/s eta 0:00:01\r\u001b[K     |████████████████████████████▋   | 112 kB 7.8 MB/s eta 0:00:01\r\u001b[K     |███████████████████████████████▏| 122 kB 7.8 MB/s eta 0:00:01\r\u001b[K     |████████████████████████████████| 125 kB 7.8 MB/s \n",
            "\u001b[?25hRequirement already satisfied: requests in /usr/local/lib/python3.7/dist-packages (from vaderSentiment) (2.23.0)\n",
            "Requirement already satisfied: urllib3!=1.25.0,!=1.25.1,<1.26,>=1.21.1 in /usr/local/lib/python3.7/dist-packages (from requests->vaderSentiment) (1.24.3)\n",
            "Requirement already satisfied: certifi>=2017.4.17 in /usr/local/lib/python3.7/dist-packages (from requests->vaderSentiment) (2021.10.8)\n",
            "Requirement already satisfied: chardet<4,>=3.0.2 in /usr/local/lib/python3.7/dist-packages (from requests->vaderSentiment) (3.0.4)\n",
            "Requirement already satisfied: idna<3,>=2.5 in /usr/local/lib/python3.7/dist-packages (from requests->vaderSentiment) (2.10)\n",
            "Installing collected packages: vaderSentiment\n",
            "Successfully installed vaderSentiment-3.3.2\n",
            "Collecting twython\n",
            "  Downloading twython-3.9.1-py3-none-any.whl (33 kB)\n",
            "Requirement already satisfied: requests-oauthlib>=0.4.0 in /usr/local/lib/python3.7/dist-packages (from twython) (1.3.0)\n",
            "Requirement already satisfied: requests>=2.1.0 in /usr/local/lib/python3.7/dist-packages (from twython) (2.23.0)\n",
            "Requirement already satisfied: certifi>=2017.4.17 in /usr/local/lib/python3.7/dist-packages (from requests>=2.1.0->twython) (2021.10.8)\n",
            "Requirement already satisfied: chardet<4,>=3.0.2 in /usr/local/lib/python3.7/dist-packages (from requests>=2.1.0->twython) (3.0.4)\n",
            "Requirement already satisfied: idna<3,>=2.5 in /usr/local/lib/python3.7/dist-packages (from requests>=2.1.0->twython) (2.10)\n",
            "Requirement already satisfied: urllib3!=1.25.0,!=1.25.1,<1.26,>=1.21.1 in /usr/local/lib/python3.7/dist-packages (from requests>=2.1.0->twython) (1.24.3)\n",
            "Requirement already satisfied: oauthlib>=3.0.0 in /usr/local/lib/python3.7/dist-packages (from requests-oauthlib>=0.4.0->twython) (3.1.1)\n",
            "Installing collected packages: twython\n",
            "Successfully installed twython-3.9.1\n"
          ]
        }
      ]
    },
    {
      "cell_type": "code",
      "metadata": {
        "id": "n1Ce51qOpmzF"
      },
      "source": [
        "from vaderSentiment.vaderSentiment import SentimentIntensityAnalyzer\n",
        "analyser = SentimentIntensityAnalyzer()\n",
        "scores=[]\n",
        "for i in range(len(df[\"tweets\"])):\n",
        "  score = analyser.polarity_scores(df[\"tweets\"][i])\n",
        "  score=score['compound']\n",
        "  scores.append(score)\n",
        "sentiment=[]\n",
        "for i in scores:\n",
        "    if i>=0.05:\n",
        "        sentiment.append('Positive')\n",
        "    elif i<=(-0.05):\n",
        "        sentiment.append('Negative')\n",
        "    else:\n",
        "        sentiment.append('Neutral')\n",
        "data['sentiment']=pd.Series(np.array(sentiment))"
      ],
      "execution_count": null,
      "outputs": []
    },
    {
      "cell_type": "code",
      "metadata": {
        "colab": {
          "base_uri": "https://localhost:8080/",
          "height": 423
        },
        "id": "dUFJnr7Vqf1k",
        "outputId": "18356222-06c8-4d1c-d875-e441f40189db"
      },
      "source": [
        "data"
      ],
      "execution_count": null,
      "outputs": [
        {
          "output_type": "execute_result",
          "data": {
            "text/html": [
              "<div>\n",
              "<style scoped>\n",
              "    .dataframe tbody tr th:only-of-type {\n",
              "        vertical-align: middle;\n",
              "    }\n",
              "\n",
              "    .dataframe tbody tr th {\n",
              "        vertical-align: top;\n",
              "    }\n",
              "\n",
              "    .dataframe thead th {\n",
              "        text-align: right;\n",
              "    }\n",
              "</style>\n",
              "<table border=\"1\" class=\"dataframe\">\n",
              "  <thead>\n",
              "    <tr style=\"text-align: right;\">\n",
              "      <th></th>\n",
              "      <th>tweets</th>\n",
              "      <th>likes</th>\n",
              "      <th>time</th>\n",
              "      <th>length</th>\n",
              "      <th>sentiment</th>\n",
              "    </tr>\n",
              "  </thead>\n",
              "  <tbody>\n",
              "    <tr>\n",
              "      <th>0</th>\n",
              "      <td>Noida Airport bring Rs 35,000 cr investment, o...</td>\n",
              "      <td>32</td>\n",
              "      <td>2021-11-23 18:20:01</td>\n",
              "      <td>106</td>\n",
              "      <td>Neutral</td>\n",
              "    </tr>\n",
              "    <tr>\n",
              "      <th>1</th>\n",
              "      <td>Continued farmers' stir beyond comprehension: ...</td>\n",
              "      <td>7</td>\n",
              "      <td>2021-11-23 18:05:31</td>\n",
              "      <td>79</td>\n",
              "      <td>Neutral</td>\n",
              "    </tr>\n",
              "    <tr>\n",
              "      <th>2</th>\n",
              "      <td>Bill seeking ban private cryptocurrencies amon...</td>\n",
              "      <td>19</td>\n",
              "      <td>2021-11-23 18:05:01</td>\n",
              "      <td>125</td>\n",
              "      <td>Negative</td>\n",
              "    </tr>\n",
              "    <tr>\n",
              "      <th>3</th>\n",
              "      <td>Indian naval ship undertaking coordinated patr...</td>\n",
              "      <td>19</td>\n",
              "      <td>2021-11-23 17:35:32</td>\n",
              "      <td>95</td>\n",
              "      <td>Neutral</td>\n",
              "    </tr>\n",
              "    <tr>\n",
              "      <th>4</th>\n",
              "      <td>SKM observe 'Kisan Mazdoor Sangharsh Diwas' No...</td>\n",
              "      <td>9</td>\n",
              "      <td>2021-11-23 17:35:01</td>\n",
              "      <td>85</td>\n",
              "      <td>Neutral</td>\n",
              "    </tr>\n",
              "    <tr>\n",
              "      <th>...</th>\n",
              "      <td>...</td>\n",
              "      <td>...</td>\n",
              "      <td>...</td>\n",
              "      <td>...</td>\n",
              "      <td>...</td>\n",
              "    </tr>\n",
              "    <tr>\n",
              "      <th>995</th>\n",
              "      <td>Channi govt give Rs 2 lakh 83 arrested Delhi t...</td>\n",
              "      <td>160</td>\n",
              "      <td>2021-11-12 17:11:14</td>\n",
              "      <td>111</td>\n",
              "      <td>Negative</td>\n",
              "    </tr>\n",
              "    <tr>\n",
              "      <th>996</th>\n",
              "      <td>Anil Deshmukh submits handwritten application ...</td>\n",
              "      <td>9</td>\n",
              "      <td>2021-11-12 17:10:44</td>\n",
              "      <td>101</td>\n",
              "      <td>Neutral</td>\n",
              "    </tr>\n",
              "    <tr>\n",
              "      <th>997</th>\n",
              "      <td>PM Modi land Purvanchal Expressway IAF plane N...</td>\n",
              "      <td>31</td>\n",
              "      <td>2021-11-12 17:10:13</td>\n",
              "      <td>92</td>\n",
              "      <td>Neutral</td>\n",
              "    </tr>\n",
              "    <tr>\n",
              "      <th>998</th>\n",
              "      <td>JD(U) girds loins contest 20 assembly seats BJ...</td>\n",
              "      <td>12</td>\n",
              "      <td>2021-11-12 16:40:44</td>\n",
              "      <td>98</td>\n",
              "      <td>Neutral</td>\n",
              "    </tr>\n",
              "    <tr>\n",
              "      <th>999</th>\n",
              "      <td>Amit Shah exhorts party cadres improve BJP tal...</td>\n",
              "      <td>21</td>\n",
              "      <td>2021-11-12 16:40:13</td>\n",
              "      <td>101</td>\n",
              "      <td>Positive</td>\n",
              "    </tr>\n",
              "  </tbody>\n",
              "</table>\n",
              "<p>1000 rows × 5 columns</p>\n",
              "</div>"
            ],
            "text/plain": [
              "                                                tweets  likes  ... length  sentiment\n",
              "0    Noida Airport bring Rs 35,000 cr investment, o...     32  ...    106    Neutral\n",
              "1    Continued farmers' stir beyond comprehension: ...      7  ...     79    Neutral\n",
              "2    Bill seeking ban private cryptocurrencies amon...     19  ...    125   Negative\n",
              "3    Indian naval ship undertaking coordinated patr...     19  ...     95    Neutral\n",
              "4    SKM observe 'Kisan Mazdoor Sangharsh Diwas' No...      9  ...     85    Neutral\n",
              "..                                                 ...    ...  ...    ...        ...\n",
              "995  Channi govt give Rs 2 lakh 83 arrested Delhi t...    160  ...    111   Negative\n",
              "996  Anil Deshmukh submits handwritten application ...      9  ...    101    Neutral\n",
              "997  PM Modi land Purvanchal Expressway IAF plane N...     31  ...     92    Neutral\n",
              "998  JD(U) girds loins contest 20 assembly seats BJ...     12  ...     98    Neutral\n",
              "999  Amit Shah exhorts party cadres improve BJP tal...     21  ...    101   Positive\n",
              "\n",
              "[1000 rows x 5 columns]"
            ]
          },
          "metadata": {},
          "execution_count": 230
        }
      ]
    },
    {
      "cell_type": "code",
      "metadata": {
        "colab": {
          "base_uri": "https://localhost:8080/",
          "height": 143
        },
        "id": "bBuJwxx_qhon",
        "outputId": "90ecbd9f-8385-4971-8db7-caa19d0c3567"
      },
      "source": [
        "temp = df.groupby('sentiment').count()['tweets'].reset_index()\n",
        "temp"
      ],
      "execution_count": null,
      "outputs": [
        {
          "output_type": "execute_result",
          "data": {
            "text/html": [
              "<div>\n",
              "<style scoped>\n",
              "    .dataframe tbody tr th:only-of-type {\n",
              "        vertical-align: middle;\n",
              "    }\n",
              "\n",
              "    .dataframe tbody tr th {\n",
              "        vertical-align: top;\n",
              "    }\n",
              "\n",
              "    .dataframe thead th {\n",
              "        text-align: right;\n",
              "    }\n",
              "</style>\n",
              "<table border=\"1\" class=\"dataframe\">\n",
              "  <thead>\n",
              "    <tr style=\"text-align: right;\">\n",
              "      <th></th>\n",
              "      <th>sentiment</th>\n",
              "      <th>tweets</th>\n",
              "    </tr>\n",
              "  </thead>\n",
              "  <tbody>\n",
              "    <tr>\n",
              "      <th>0</th>\n",
              "      <td>Negative</td>\n",
              "      <td>307</td>\n",
              "    </tr>\n",
              "    <tr>\n",
              "      <th>1</th>\n",
              "      <td>Neutral</td>\n",
              "      <td>434</td>\n",
              "    </tr>\n",
              "    <tr>\n",
              "      <th>2</th>\n",
              "      <td>Positive</td>\n",
              "      <td>259</td>\n",
              "    </tr>\n",
              "  </tbody>\n",
              "</table>\n",
              "</div>"
            ],
            "text/plain": [
              "  sentiment  tweets\n",
              "0  Negative     307\n",
              "1   Neutral     434\n",
              "2  Positive     259"
            ]
          },
          "metadata": {},
          "execution_count": 236
        }
      ]
    },
    {
      "cell_type": "code",
      "metadata": {
        "id": "z7uuV7K0ttBu"
      },
      "source": [
        "import seaborn as sns"
      ],
      "execution_count": null,
      "outputs": []
    },
    {
      "cell_type": "code",
      "metadata": {
        "colab": {
          "base_uri": "https://localhost:8080/",
          "height": 694
        },
        "id": "rp-1V3xtq8NP",
        "outputId": "e0e930e7-f927-4181-98fe-493d8df945fc"
      },
      "source": [
        "df.plot( 'time' , 'likes' ,figsize=(18, 12))"
      ],
      "execution_count": null,
      "outputs": [
        {
          "output_type": "execute_result",
          "data": {
            "text/plain": [
              "<matplotlib.axes._subplots.AxesSubplot at 0x7f36272be690>"
            ]
          },
          "metadata": {},
          "execution_count": 267
        },
        {
          "output_type": "display_data",
          "data": {
            "image/png": "[encoded data removed]",
            "text/plain": [
              "<Figure size 1296x864 with 1 Axes>"
            ]
          },
          "metadata": {}
        }
      ]
    },
    {
      "cell_type": "markdown",
      "metadata": {
        "id": "hz1cKff8HE2d"
      },
      "source": [
        "We can analyze the trends in likes or other features that we can extract and make time series graphs like this one.\n",
        "This can be also used for Cryptocurrency and trading analysis problems."
      ]
    },
    {
      "cell_type": "code",
      "metadata": {
        "colab": {
          "base_uri": "https://localhost:8080/",
          "height": 566
        },
        "id": "DfIALDN2CZoA",
        "outputId": "0378a19f-ccee-47c1-d2af-d8cf608514b8"
      },
      "source": [
        "dfg = df.groupby(['sentiment'])['likes'].count()\n",
        "dfg.plot(kind='bar', title='Sentiment vs Likes', ylabel='Likes',\n",
        "         xlabel='Sentiment', figsize=(10, 8))"
      ],
      "execution_count": null,
      "outputs": [
        {
          "output_type": "execute_result",
          "data": {
            "text/plain": [
              "<matplotlib.axes._subplots.AxesSubplot at 0x7f3626f4d2d0>"
            ]
          },
          "metadata": {},
          "execution_count": 263
        },
        {
          "output_type": "display_data",
          "data": {
            "image/png": "[encoded data removed]",
            "text/plain": [
              "<Figure size 720x576 with 1 Axes>"
            ]
          },
          "metadata": {}
        }
      ]
    }
  ]
}